{
 "cells": [
  {
   "cell_type": "code",
   "execution_count": 1,
   "id": "2217a107-a302-432c-8f3b-739b18448348",
   "metadata": {},
   "outputs": [
    {
     "name": "stdout",
     "output_type": "stream",
     "text": [
      "Collecting pycryptodome\n",
      "  Downloading pycryptodome-3.21.0-cp36-abi3-win_amd64.whl.metadata (3.4 kB)\n",
      "Downloading pycryptodome-3.21.0-cp36-abi3-win_amd64.whl (1.8 MB)\n",
      "   ---------------------------------------- 0.0/1.8 MB ? eta -:--:--\n",
      "   ---------------------------------------- 1.8/1.8 MB 33.0 MB/s eta 0:00:00\n",
      "Installing collected packages: pycryptodome\n",
      "Successfully installed pycryptodome-3.21.0\n"
     ]
    }
   ],
   "source": [
    "!pip install pycryptodome"
   ]
  },
  {
   "cell_type": "code",
   "execution_count": 6,
   "id": "deedbe7d-916c-4abc-8109-db2a6b9b71bf",
   "metadata": {},
   "outputs": [
    {
     "name": "stdin",
     "output_type": "stream",
     "text": [
      "Enter a message : hello\n"
     ]
    },
    {
     "name": "stdout",
     "output_type": "stream",
     "text": [
      "Cipher text :b'\\xe7\\xc1\\xba\\xc8\\xba'\n",
      "Plain text: hello\n"
     ]
    }
   ],
   "source": [
    "from Crypto.Cipher import AES\n",
    "from secrets import token_bytes\n",
    "\n",
    "key=token_bytes(16)\n",
    "\n",
    "def encrypt(msg):\n",
    "    cipher=AES.new(key, AES.MODE_EAX)\n",
    "    nonce = cipher.nonce\n",
    "    ciphertext, tag = cipher.encrypt_and_digest(msg.encode('ascii'))\n",
    "    return nonce,ciphertext, tag\n",
    "\n",
    "def decrypt(nonce, ciphertext, tag):\n",
    "    cipher= AES.new(key,AES.MODE_EAX, nonce=nonce)\n",
    "    plaintext=cipher.decrypt(ciphertext)\n",
    "    try:\n",
    "        cipher.verify(tag)\n",
    "        return plaintext.decode('ascii')\n",
    "    except :\n",
    "        return False\n",
    "\n",
    "nonce, ciphertext, tag=encrypt(input('Enter a message :'))\n",
    "plaintext = decrypt(nonce, ciphertext, tag)\n",
    "print(f'Cipher text :{ciphertext}')\n",
    "if not plaintext:\n",
    "    print('Message is corrupted')\n",
    "else:\n",
    "    print(f'Plain text: {plaintext}')"
   ]
  },
  {
   "cell_type": "code",
   "execution_count": null,
   "id": "3e87abbf-df84-48d0-85a2-040618f0e72e",
   "metadata": {},
   "outputs": [],
   "source": []
  }
 ],
 "metadata": {
  "kernelspec": {
   "display_name": "Python [conda env:base] *",
   "language": "python",
   "name": "conda-base-py"
  },
  "language_info": {
   "codemirror_mode": {
    "name": "ipython",
    "version": 3
   },
   "file_extension": ".py",
   "mimetype": "text/x-python",
   "name": "python",
   "nbconvert_exporter": "python",
   "pygments_lexer": "ipython3",
   "version": "3.12.7"
  }
 },
 "nbformat": 4,
 "nbformat_minor": 5
}
